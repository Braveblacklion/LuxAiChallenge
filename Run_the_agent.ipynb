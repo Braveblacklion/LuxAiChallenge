{
 "cells": [
  {
   "cell_type": "code",
   "execution_count": null,
   "id": "d16de571",
   "metadata": {},
   "outputs": [],
   "source": [
    "from kaggle_environments import make\n",
    "\n",
    "from IPython.core.display import display, HTML\n",
    "display(HTML(\"<style>.container { width:80% !important; }</style>\"))"
   ]
  },
  {
   "cell_type": "code",
   "execution_count": null,
   "id": "328449e1",
   "metadata": {},
   "outputs": [],
   "source": [
    "# create the environment. You can also specify configurations for seed and loglevel as shown below. If not specified, a random seed is chosen. \n",
    "# loglevel default is 0. \n",
    "# 1 is for errors, 2 is for match warnings such as units colliding, invalid commands (recommended)\n",
    "# 3 for info level, and 4 for everything (not recommended)\n",
    "# set annotations True so annotation commands are drawn on visualizer\n",
    "# set debug to True so print statements get shown\n",
    "#Very hard seed world: 243485520\n",
    "env = make(\"lux_ai_2021\", configuration={\"seed\": 227303120, \"loglevel\": 0, \"annotations\": True}, debug=True)"
   ]
  },
  {
   "cell_type": "code",
   "execution_count": null,
   "id": "737eb684",
   "metadata": {},
   "outputs": [],
   "source": [
    "# run a match between two simple agents, which are the agents we will walk you through on how to build!\n",
    "steps = env.run([\"./agent.py\", \"./Old_agents/agent_highest.py\"])\n",
    "#steps = env.run([\"simple_agent\", \"./agent.py\"])\n",
    "# if you are viewing this outside of the interactive jupyter notebook / kaggle notebooks mode, this may look cutoff\n",
    "# render the game, feel free to change width and height to your liking. We recommend keeping them as large as possible for better quality.\n",
    "# you may also want to close the output of this render cell or else the notebook might get laggy\n",
    "env.render(mode=\"ipython\", width=1200, height=800)"
   ]
  },
  {
   "cell_type": "code",
   "execution_count": null,
   "id": "47c1084e",
   "metadata": {},
   "outputs": [],
   "source": [
    "import json\n",
    "# save the replay as a file. if working locally this should appear in your current directory, otherwise you can download\n",
    "# from this kaggle notebook by opening the output section of the data panel on the right\n",
    "replay = env.toJSON()\n",
    "with open(\"replay_tmp.json\", \"w\") as f:\n",
    "    json.dump(replay, f)\n",
    "# this replay can then be watched here https://2021vis.lux-ai.org/"
   ]
  },
  {
   "cell_type": "code",
   "execution_count": null,
   "id": "a9619e6a",
   "metadata": {},
   "outputs": [],
   "source": []
  }
 ],
 "metadata": {
  "kernelspec": {
   "display_name": "Python 3 (ipykernel)",
   "language": "python",
   "name": "python3"
  },
  "language_info": {
   "codemirror_mode": {
    "name": "ipython",
    "version": 3
   },
   "file_extension": ".py",
   "mimetype": "text/x-python",
   "name": "python",
   "nbconvert_exporter": "python",
   "pygments_lexer": "ipython3",
   "version": "3.7.11"
  }
 },
 "nbformat": 4,
 "nbformat_minor": 5
}
